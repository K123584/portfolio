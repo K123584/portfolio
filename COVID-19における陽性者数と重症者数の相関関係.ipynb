{
 "cells": [
  {
   "cell_type": "markdown",
   "metadata": {},
   "source": [
    "AIが専門ではありませんが学習用にチュートリアルとして作成しました。\n"
    "回帰直線を使いコロナ重症者と陽性者数の関係を表すモデルを作ります。"
   ]
  },
  {
   "cell_type": "markdown",
   "metadata": {},
   "source": [
    "参考: https://blog.codecamp.jp/python-csv\n",
    "\n",
    "urlからcsvファイルを読み込む方法\n",
    "import matplotlib.pyplot as plt\n",
    "import pandas\n",
    "url = \"https://raw.githubusercontent.com/jbrownlee/Datasets/master/pima-indians-diabetes.data.csv\"\n",
    "names = ['preg', 'plas', 'pres', 'skin', 'test', 'mass', 'pedi', 'age', 'class']\n",
    "data = pandas.read_csv(url, names=names)\n",
    "data.plot(kind='density', subplots=True, layout=(3,3), sharex=False)\n",
    "plt.show()"
   ]
  },
  {
   "cell_type": "code",
   "execution_count": 1,
   "metadata": {},
   "outputs": [],
   "source": [
    "import numpy as np\n",
    "import pandas as pd\n",
    "import glob\n",
    "from pandas import Series,DataFrame\n",
    "from sklearn.model_selection import train_test_split\n",
    "from sklearn.neural_network import MLPClassifier\n",
    "#https://kakedashi-engineer.appspot.com/2020/03/21/pandas-sklearn/"
   ]
  },
  {
   "cell_type": "code",
   "execution_count": 2,
   "metadata": {},
   "outputs": [],
   "source": [
    "import matplotlib.pyplot as plt\n",
    "import seaborn as sns\n",
    "sns.set_style('whitegrid')\n",
    "%matplotlib inline"
   ]
  },
  {
   "cell_type": "code",
   "execution_count": 3,
   "metadata": {},
   "outputs": [
    {
     "data": {
      "text/html": [
       "<div>\n",
       "<style scoped>\n",
       "    .dataframe tbody tr th:only-of-type {\n",
       "        vertical-align: middle;\n",
       "    }\n",
       "\n",
       "    .dataframe tbody tr th {\n",
       "        vertical-align: top;\n",
       "    }\n",
       "\n",
       "    .dataframe thead th {\n",
       "        text-align: right;\n",
       "    }\n",
       "</style>\n",
       "<table border=\"1\" class=\"dataframe\">\n",
       "  <thead>\n",
       "    <tr style=\"text-align: right;\">\n",
       "      <th></th>\n",
       "      <th>日付</th>\n",
       "      <th>PCR 検査陽性者数(単日)</th>\n",
       "    </tr>\n",
       "  </thead>\n",
       "  <tbody>\n",
       "    <tr>\n",
       "      <th>0</th>\n",
       "      <td>2020/1/16</td>\n",
       "      <td>1</td>\n",
       "    </tr>\n",
       "    <tr>\n",
       "      <th>1</th>\n",
       "      <td>2020/1/17</td>\n",
       "      <td>0</td>\n",
       "    </tr>\n",
       "    <tr>\n",
       "      <th>2</th>\n",
       "      <td>2020/1/18</td>\n",
       "      <td>0</td>\n",
       "    </tr>\n",
       "    <tr>\n",
       "      <th>3</th>\n",
       "      <td>2020/1/19</td>\n",
       "      <td>0</td>\n",
       "    </tr>\n",
       "    <tr>\n",
       "      <th>4</th>\n",
       "      <td>2020/1/20</td>\n",
       "      <td>0</td>\n",
       "    </tr>\n",
       "    <tr>\n",
       "      <th>...</th>\n",
       "      <td>...</td>\n",
       "      <td>...</td>\n",
       "    </tr>\n",
       "    <tr>\n",
       "      <th>482</th>\n",
       "      <td>2021/5/12</td>\n",
       "      <td>7057</td>\n",
       "    </tr>\n",
       "    <tr>\n",
       "      <th>483</th>\n",
       "      <td>2021/5/13</td>\n",
       "      <td>6867</td>\n",
       "    </tr>\n",
       "    <tr>\n",
       "      <th>484</th>\n",
       "      <td>2021/5/14</td>\n",
       "      <td>6269</td>\n",
       "    </tr>\n",
       "    <tr>\n",
       "      <th>485</th>\n",
       "      <td>2021/5/15</td>\n",
       "      <td>6420</td>\n",
       "    </tr>\n",
       "    <tr>\n",
       "      <th>486</th>\n",
       "      <td>2021/5/16</td>\n",
       "      <td>5247</td>\n",
       "    </tr>\n",
       "  </tbody>\n",
       "</table>\n",
       "<p>487 rows × 2 columns</p>\n",
       "</div>"
      ],
      "text/plain": [
       "            日付  PCR 検査陽性者数(単日)\n",
       "0    2020/1/16               1\n",
       "1    2020/1/17               0\n",
       "2    2020/1/18               0\n",
       "3    2020/1/19               0\n",
       "4    2020/1/20               0\n",
       "..         ...             ...\n",
       "482  2021/5/12            7057\n",
       "483  2021/5/13            6867\n",
       "484  2021/5/14            6269\n",
       "485  2021/5/15            6420\n",
       "486  2021/5/16            5247\n",
       "\n",
       "[487 rows x 2 columns]"
      ]
     },
     "execution_count": 3,
     "metadata": {},
     "output_type": "execute_result"
    }
   ],
   "source": [
    "url = 'https://www.mhlw.go.jp/content/pcr_positive_daily.csv'\n",
    "#厚生労働省のオープンデータサイト https://www.mhlw.go.jp/stf/covid-19/open-data.html\n",
    "\n",
    "#'utf-8' codec can't decode byte 0x93 in position 0: invalid start byte　のエラー発生のため新たに encoding=\"shift-jis\"を追加\n",
    "# 参考サイト: https://paper.hatenadiary.jp/entry/2016/10/05/140013\n",
    "\n",
    "dframe_positive = pd.read_csv(url, encoding=\"shift-jis\")\n",
    "dframe_positive"
   ]
  },
  {
   "cell_type": "code",
   "execution_count": 4,
   "metadata": {},
   "outputs": [],
   "source": [
    "#dframe_positive = pd.read_csv('pcr_positive_daily.csv', ',')\n",
    "#','はデータがカンマ区切りということ　セミコロン区切りの場合は';'で読み込まなくてはいけない"
   ]
  },
  {
   "cell_type": "code",
   "execution_count": 5,
   "metadata": {},
   "outputs": [
    {
     "data": {
      "text/html": [
       "<div>\n",
       "<style scoped>\n",
       "    .dataframe tbody tr th:only-of-type {\n",
       "        vertical-align: middle;\n",
       "    }\n",
       "\n",
       "    .dataframe tbody tr th {\n",
       "        vertical-align: top;\n",
       "    }\n",
       "\n",
       "    .dataframe thead th {\n",
       "        text-align: right;\n",
       "    }\n",
       "</style>\n",
       "<table border=\"1\" class=\"dataframe\">\n",
       "  <thead>\n",
       "    <tr style=\"text-align: right;\">\n",
       "      <th></th>\n",
       "      <th>日付</th>\n",
       "      <th>PCR 検査陽性者数(単日)</th>\n",
       "    </tr>\n",
       "  </thead>\n",
       "  <tbody>\n",
       "    <tr>\n",
       "      <th>0</th>\n",
       "      <td>2020/1/16</td>\n",
       "      <td>1</td>\n",
       "    </tr>\n",
       "    <tr>\n",
       "      <th>1</th>\n",
       "      <td>2020/1/17</td>\n",
       "      <td>0</td>\n",
       "    </tr>\n",
       "    <tr>\n",
       "      <th>2</th>\n",
       "      <td>2020/1/18</td>\n",
       "      <td>0</td>\n",
       "    </tr>\n",
       "    <tr>\n",
       "      <th>3</th>\n",
       "      <td>2020/1/19</td>\n",
       "      <td>0</td>\n",
       "    </tr>\n",
       "    <tr>\n",
       "      <th>4</th>\n",
       "      <td>2020/1/20</td>\n",
       "      <td>0</td>\n",
       "    </tr>\n",
       "    <tr>\n",
       "      <th>...</th>\n",
       "      <td>...</td>\n",
       "      <td>...</td>\n",
       "    </tr>\n",
       "    <tr>\n",
       "      <th>482</th>\n",
       "      <td>2021/5/12</td>\n",
       "      <td>7057</td>\n",
       "    </tr>\n",
       "    <tr>\n",
       "      <th>483</th>\n",
       "      <td>2021/5/13</td>\n",
       "      <td>6867</td>\n",
       "    </tr>\n",
       "    <tr>\n",
       "      <th>484</th>\n",
       "      <td>2021/5/14</td>\n",
       "      <td>6269</td>\n",
       "    </tr>\n",
       "    <tr>\n",
       "      <th>485</th>\n",
       "      <td>2021/5/15</td>\n",
       "      <td>6420</td>\n",
       "    </tr>\n",
       "    <tr>\n",
       "      <th>486</th>\n",
       "      <td>2021/5/16</td>\n",
       "      <td>5247</td>\n",
       "    </tr>\n",
       "  </tbody>\n",
       "</table>\n",
       "<p>487 rows × 2 columns</p>\n",
       "</div>"
      ],
      "text/plain": [
       "            日付  PCR 検査陽性者数(単日)\n",
       "0    2020/1/16               1\n",
       "1    2020/1/17               0\n",
       "2    2020/1/18               0\n",
       "3    2020/1/19               0\n",
       "4    2020/1/20               0\n",
       "..         ...             ...\n",
       "482  2021/5/12            7057\n",
       "483  2021/5/13            6867\n",
       "484  2021/5/14            6269\n",
       "485  2021/5/15            6420\n",
       "486  2021/5/16            5247\n",
       "\n",
       "[487 rows x 2 columns]"
      ]
     },
     "execution_count": 5,
     "metadata": {},
     "output_type": "execute_result"
    }
   ],
   "source": [
    "dframe_positive"
   ]
  },
  {
   "cell_type": "code",
   "execution_count": 6,
   "metadata": {},
   "outputs": [
    {
     "data": {
      "text/plain": [
       "PCR 検査陽性者数(単日)    1390.780287\n",
       "dtype: float64"
      ]
     },
     "execution_count": 6,
     "metadata": {},
     "output_type": "execute_result"
    }
   ],
   "source": [
    "dframe_positive.mean()"
   ]
  },
  {
   "cell_type": "markdown",
   "metadata": {},
   "source": [
    "以下でも可\n"
   ]
  },
  {
   "cell_type": "markdown",
   "metadata": {},
   "source": [
    "means = dframe_positive.mean()"
   ]
  },
  {
   "cell_type": "markdown",
   "metadata": {},
   "source": [
    "print(means)"
   ]
  },
  {
   "cell_type": "markdown",
   "metadata": {},
   "source": [
    "histグラムで可視化"
   ]
  },
  {
   "cell_type": "code",
   "execution_count": 7,
   "metadata": {},
   "outputs": [
    {
     "data": {
      "text/html": [
       "<div>\n",
       "<style scoped>\n",
       "    .dataframe tbody tr th:only-of-type {\n",
       "        vertical-align: middle;\n",
       "    }\n",
       "\n",
       "    .dataframe tbody tr th {\n",
       "        vertical-align: top;\n",
       "    }\n",
       "\n",
       "    .dataframe thead th {\n",
       "        text-align: right;\n",
       "    }\n",
       "</style>\n",
       "<table border=\"1\" class=\"dataframe\">\n",
       "  <thead>\n",
       "    <tr style=\"text-align: right;\">\n",
       "      <th></th>\n",
       "      <th>日付</th>\n",
       "      <th>重症者数</th>\n",
       "    </tr>\n",
       "  </thead>\n",
       "  <tbody>\n",
       "    <tr>\n",
       "      <th>0</th>\n",
       "      <td>2020/2/5</td>\n",
       "      <td>0</td>\n",
       "    </tr>\n",
       "    <tr>\n",
       "      <th>1</th>\n",
       "      <td>2020/2/6</td>\n",
       "      <td>0</td>\n",
       "    </tr>\n",
       "    <tr>\n",
       "      <th>2</th>\n",
       "      <td>2020/2/7</td>\n",
       "      <td>0</td>\n",
       "    </tr>\n",
       "    <tr>\n",
       "      <th>3</th>\n",
       "      <td>2020/2/8</td>\n",
       "      <td>0</td>\n",
       "    </tr>\n",
       "    <tr>\n",
       "      <th>4</th>\n",
       "      <td>2020/2/9</td>\n",
       "      <td>0</td>\n",
       "    </tr>\n",
       "    <tr>\n",
       "      <th>...</th>\n",
       "      <td>...</td>\n",
       "      <td>...</td>\n",
       "    </tr>\n",
       "    <tr>\n",
       "      <th>462</th>\n",
       "      <td>2021/5/12</td>\n",
       "      <td>1214</td>\n",
       "    </tr>\n",
       "    <tr>\n",
       "      <th>463</th>\n",
       "      <td>2021/5/13</td>\n",
       "      <td>1209</td>\n",
       "    </tr>\n",
       "    <tr>\n",
       "      <th>464</th>\n",
       "      <td>2021/5/14</td>\n",
       "      <td>1231</td>\n",
       "    </tr>\n",
       "    <tr>\n",
       "      <th>465</th>\n",
       "      <td>2021/5/15</td>\n",
       "      <td>1223</td>\n",
       "    </tr>\n",
       "    <tr>\n",
       "      <th>466</th>\n",
       "      <td>2021/5/16</td>\n",
       "      <td>1227</td>\n",
       "    </tr>\n",
       "  </tbody>\n",
       "</table>\n",
       "<p>467 rows × 2 columns</p>\n",
       "</div>"
      ],
      "text/plain": [
       "            日付  重症者数\n",
       "0     2020/2/5     0\n",
       "1     2020/2/6     0\n",
       "2     2020/2/7     0\n",
       "3     2020/2/8     0\n",
       "4     2020/2/9     0\n",
       "..         ...   ...\n",
       "462  2021/5/12  1214\n",
       "463  2021/5/13  1209\n",
       "464  2021/5/14  1231\n",
       "465  2021/5/15  1223\n",
       "466  2021/5/16  1227\n",
       "\n",
       "[467 rows x 2 columns]"
      ]
     },
     "execution_count": 7,
     "metadata": {},
     "output_type": "execute_result"
    }
   ],
   "source": [
    "url = 'https://www.mhlw.go.jp/content/severe_daily.csv'\n",
    "#厚生労働省のオープンデータサイト https://www.mhlw.go.jp/stf/covid-19/open-data.html\n",
    "dframe_severe = pd.read_csv(url)\n",
    "dframe_severe"
   ]
  },
  {
   "cell_type": "code",
   "execution_count": 8,
   "metadata": {},
   "outputs": [
    {
     "data": {
      "text/plain": [
       "重症者数    336.659529\n",
       "dtype: float64"
      ]
     },
     "execution_count": 8,
     "metadata": {},
     "output_type": "execute_result"
    }
   ],
   "source": [
    "dframe_severe.mean()"
   ]
  },
  {
   "cell_type": "code",
   "execution_count": 9,
   "metadata": {
    "scrolled": true
   },
   "outputs": [
    {
     "data": {
      "text/html": [
       "<div>\n",
       "<style scoped>\n",
       "    .dataframe tbody tr th:only-of-type {\n",
       "        vertical-align: middle;\n",
       "    }\n",
       "\n",
       "    .dataframe tbody tr th {\n",
       "        vertical-align: top;\n",
       "    }\n",
       "\n",
       "    .dataframe thead th {\n",
       "        text-align: right;\n",
       "    }\n",
       "</style>\n",
       "<table border=\"1\" class=\"dataframe\">\n",
       "  <thead>\n",
       "    <tr style=\"text-align: right;\">\n",
       "      <th></th>\n",
       "      <th>日付</th>\n",
       "      <th>PCR 検査陽性者数(単日)</th>\n",
       "      <th>重症者数</th>\n",
       "    </tr>\n",
       "  </thead>\n",
       "  <tbody>\n",
       "    <tr>\n",
       "      <th>0</th>\n",
       "      <td>2020/2/5</td>\n",
       "      <td>2</td>\n",
       "      <td>0</td>\n",
       "    </tr>\n",
       "    <tr>\n",
       "      <th>1</th>\n",
       "      <td>2020/2/6</td>\n",
       "      <td>0</td>\n",
       "      <td>0</td>\n",
       "    </tr>\n",
       "    <tr>\n",
       "      <th>2</th>\n",
       "      <td>2020/2/7</td>\n",
       "      <td>0</td>\n",
       "      <td>0</td>\n",
       "    </tr>\n",
       "    <tr>\n",
       "      <th>3</th>\n",
       "      <td>2020/2/8</td>\n",
       "      <td>0</td>\n",
       "      <td>0</td>\n",
       "    </tr>\n",
       "    <tr>\n",
       "      <th>4</th>\n",
       "      <td>2020/2/9</td>\n",
       "      <td>0</td>\n",
       "      <td>0</td>\n",
       "    </tr>\n",
       "    <tr>\n",
       "      <th>...</th>\n",
       "      <td>...</td>\n",
       "      <td>...</td>\n",
       "      <td>...</td>\n",
       "    </tr>\n",
       "    <tr>\n",
       "      <th>462</th>\n",
       "      <td>2021/5/12</td>\n",
       "      <td>7057</td>\n",
       "      <td>1214</td>\n",
       "    </tr>\n",
       "    <tr>\n",
       "      <th>463</th>\n",
       "      <td>2021/5/13</td>\n",
       "      <td>6867</td>\n",
       "      <td>1209</td>\n",
       "    </tr>\n",
       "    <tr>\n",
       "      <th>464</th>\n",
       "      <td>2021/5/14</td>\n",
       "      <td>6269</td>\n",
       "      <td>1231</td>\n",
       "    </tr>\n",
       "    <tr>\n",
       "      <th>465</th>\n",
       "      <td>2021/5/15</td>\n",
       "      <td>6420</td>\n",
       "      <td>1223</td>\n",
       "    </tr>\n",
       "    <tr>\n",
       "      <th>466</th>\n",
       "      <td>2021/5/16</td>\n",
       "      <td>5247</td>\n",
       "      <td>1227</td>\n",
       "    </tr>\n",
       "  </tbody>\n",
       "</table>\n",
       "<p>467 rows × 3 columns</p>\n",
       "</div>"
      ],
      "text/plain": [
       "            日付  PCR 検査陽性者数(単日)  重症者数\n",
       "0     2020/2/5               2     0\n",
       "1     2020/2/6               0     0\n",
       "2     2020/2/7               0     0\n",
       "3     2020/2/8               0     0\n",
       "4     2020/2/9               0     0\n",
       "..         ...             ...   ...\n",
       "462  2021/5/12            7057  1214\n",
       "463  2021/5/13            6867  1209\n",
       "464  2021/5/14            6269  1231\n",
       "465  2021/5/15            6420  1223\n",
       "466  2021/5/16            5247  1227\n",
       "\n",
       "[467 rows x 3 columns]"
      ]
     },
     "execution_count": 9,
     "metadata": {},
     "output_type": "execute_result"
    }
   ],
   "source": [
    "#mergeで二つのdataframeを結合し、dframe_covid_19に入れる\n",
    "dframe_covid_19 =pd.merge(dframe_positive, dframe_severe)\n",
    "dframe_covid_19"
   ]
  },
  {
   "cell_type": "code",
   "execution_count": 10,
   "metadata": {},
   "outputs": [
    {
     "name": "stdout",
     "output_type": "stream",
     "text": [
      "          date  positive  severe\n",
      "0     2020/2/5         2       0\n",
      "1     2020/2/6         0       0\n",
      "2     2020/2/7         0       0\n",
      "3     2020/2/8         0       0\n",
      "4     2020/2/9         0       0\n",
      "..         ...       ...     ...\n",
      "462  2021/5/12      7057    1214\n",
      "463  2021/5/13      6867    1209\n",
      "464  2021/5/14      6269    1231\n",
      "465  2021/5/15      6420    1223\n",
      "466  2021/5/16      5247    1227\n",
      "\n",
      "[467 rows x 3 columns]\n"
     ]
    }
   ],
   "source": [
    "#行名を一括で変更\n",
    "# 参考サイトhttps://pycollege.org/2020/04/24/%E3%80%90python%E3%80%91dataframe%E3%81%AE%E5%88%97%E5%90%8D%E3%82%92%E4%B8%80%E6%8B%AC%E5%A4%89%E6%8F%9B%E3%81%99%E3%82%8B%E6%96%B9%E6%B3%95/\n",
    "col_name = ['date', 'positive', 'severe']\n",
    "dframe_covid_19 = dframe_covid_19.rename(columns= dict(zip(dframe_covid_19, col_name)))\n",
    "print(dframe_covid_19)"
   ]
  },
  {
   "cell_type": "markdown",
   "metadata": {},
   "source": [
    " 参考  https://qiita.com/0NE_shoT_/items/31a77b6228159d6feb2e\n",
    "\n",
    "import matplotlib.pyplot as plt\n",
    "plt.hist(x=dframe_positive['PCR 検査陽性者数(単日)'],bins=50)\n",
    "plt.hist(y=dframe_severe['重症者数'],bins=400)\n",
    "\n",
    "plt.title('histgrame(covid-19 in Japan)')\n"
   ]
  },
  {
   "cell_type": "markdown",
   "metadata": {},
   "source": [
    "scikit-learnでirisなどの付属データセットではなく、独自データやインターネット上の外部データを読み込む方法\n",
    "https://qiita.com/forgetful-chicken/items/640bf1e79033f612b62a"
   ]
  },
  {
   "cell_type": "code",
   "execution_count": 11,
   "metadata": {},
   "outputs": [
    {
     "name": "stdout",
     "output_type": "stream",
     "text": [
      "データセットのキー（特徴量名）の確認==>:\n",
      " Index(['date', 'positive', 'severe'], dtype='object')\n",
      "dataframeの行数・列数の確認==>\n",
      " (467, 3)\n"
     ]
    }
   ],
   "source": [
    "#特徴量名とデータ数の確認\n",
    "print(\"データセットのキー（特徴量名）の確認==>:\\n\", dframe_covid_19.keys())\n",
    "print('dataframeの行数・列数の確認==>\\n', dframe_covid_19.shape)"
   ]
  },
  {
   "cell_type": "code",
   "execution_count": 12,
   "metadata": {},
   "outputs": [
    {
     "name": "stdout",
     "output_type": "stream",
     "text": [
      "<class 'pandas.core.frame.DataFrame'>\n",
      "Int64Index: 467 entries, 0 to 466\n",
      "Data columns (total 3 columns):\n",
      " #   Column    Non-Null Count  Dtype \n",
      "---  ------    --------------  ----- \n",
      " 0   date      467 non-null    object\n",
      " 1   positive  467 non-null    int64 \n",
      " 2   severe    467 non-null    int64 \n",
      "dtypes: int64(2), object(1)\n",
      "memory usage: 14.6+ KB\n"
     ]
    }
   ],
   "source": [
    "#欠損値等の処理をする（特徴量エンジニアリング）\n",
    "dframe_covid_19.info()"
   ]
  },
  {
   "cell_type": "code",
   "execution_count": 13,
   "metadata": {},
   "outputs": [],
   "source": [
    "#　Scikit-learn用のデータクラスを持つオブジェクト（空のデータセット）を作る\n",
    "import sklearn\n",
    "covid_19 = sklearn.utils.Bunch()"
   ]
  },
  {
   "cell_type": "code",
   "execution_count": 14,
   "metadata": {},
   "outputs": [],
   "source": [
    "#重症者数を目的変数targetとする\n",
    "covid_19['target'] =dframe_covid_19['severe']"
   ]
  },
  {
   "cell_type": "code",
   "execution_count": 15,
   "metadata": {},
   "outputs": [],
   "source": [
    "#説明変数をPCR 検査陽性者数(単日)にし、\"data\"に入れる\n",
    "covid_19['data'] = dframe_covid_19.loc[:, ['positive']]"
   ]
  },
  {
   "cell_type": "code",
   "execution_count": 16,
   "metadata": {},
   "outputs": [],
   "source": [
    "#凡例用に特徴例の名前を入れとく\n",
    "covid_19['feature_names'] = ['positive']"
   ]
  },
  {
   "cell_type": "code",
   "execution_count": 17,
   "metadata": {},
   "outputs": [
    {
     "name": "stdout",
     "output_type": "stream",
     "text": [
      "X_train shape: (350, 1)\n",
      "X_test shape: (117, 1)\n"
     ]
    }
   ],
   "source": [
    "# 訓練セットとテストセットに分割\n",
    "#shapeは配列の形状を表示\n",
    "# random_stateについて: https://qiita.com/KyleKatarn/items/2afa6787f04f28e2cd2d\n",
    "from sklearn.model_selection import train_test_split\n",
    "X_train, X_test, y_train, y_test = train_test_split(\n",
    "    covid_19['data'], covid_19['target'], random_state=0)\n",
    "print(\"X_train shape:\", X_train.shape)\n",
    "print(\"X_test shape:\", X_test.shape)"
   ]
  },
  {
   "cell_type": "code",
   "execution_count": 18,
   "metadata": {},
   "outputs": [
    {
     "data": {
      "text/html": [
       "<div>\n",
       "<style scoped>\n",
       "    .dataframe tbody tr th:only-of-type {\n",
       "        vertical-align: middle;\n",
       "    }\n",
       "\n",
       "    .dataframe tbody tr th {\n",
       "        vertical-align: top;\n",
       "    }\n",
       "\n",
       "    .dataframe thead th {\n",
       "        text-align: right;\n",
       "    }\n",
       "</style>\n",
       "<table border=\"1\" class=\"dataframe\">\n",
       "  <thead>\n",
       "    <tr style=\"text-align: right;\">\n",
       "      <th></th>\n",
       "      <th>positive</th>\n",
       "    </tr>\n",
       "  </thead>\n",
       "  <tbody>\n",
       "    <tr>\n",
       "      <th>245</th>\n",
       "      <td>505</td>\n",
       "    </tr>\n",
       "    <tr>\n",
       "      <th>343</th>\n",
       "      <td>5841</td>\n",
       "    </tr>\n",
       "    <tr>\n",
       "      <th>7</th>\n",
       "      <td>1</td>\n",
       "    </tr>\n",
       "    <tr>\n",
       "      <th>159</th>\n",
       "      <td>248</td>\n",
       "    </tr>\n",
       "    <tr>\n",
       "      <th>385</th>\n",
       "      <td>926</td>\n",
       "    </tr>\n",
       "    <tr>\n",
       "      <th>...</th>\n",
       "      <td>...</td>\n",
       "    </tr>\n",
       "    <tr>\n",
       "      <th>323</th>\n",
       "      <td>3714</td>\n",
       "    </tr>\n",
       "    <tr>\n",
       "      <th>192</th>\n",
       "      <td>1234</td>\n",
       "    </tr>\n",
       "    <tr>\n",
       "      <th>117</th>\n",
       "      <td>36</td>\n",
       "    </tr>\n",
       "    <tr>\n",
       "      <th>47</th>\n",
       "      <td>38</td>\n",
       "    </tr>\n",
       "    <tr>\n",
       "      <th>172</th>\n",
       "      <td>830</td>\n",
       "    </tr>\n",
       "  </tbody>\n",
       "</table>\n",
       "<p>350 rows × 1 columns</p>\n",
       "</div>"
      ],
      "text/plain": [
       "     positive\n",
       "245       505\n",
       "343      5841\n",
       "7           1\n",
       "159       248\n",
       "385       926\n",
       "..        ...\n",
       "323      3714\n",
       "192      1234\n",
       "117        36\n",
       "47         38\n",
       "172       830\n",
       "\n",
       "[350 rows x 1 columns]"
      ]
     },
     "execution_count": 18,
     "metadata": {},
     "output_type": "execute_result"
    }
   ],
   "source": [
    "X_train"
   ]
  },
  {
   "cell_type": "code",
   "execution_count": 19,
   "metadata": {},
   "outputs": [
    {
     "data": {
      "text/plain": [
       "245    143\n",
       "343    920\n",
       "7        0\n",
       "159     40\n",
       "385    472\n",
       "      ... \n",
       "323    644\n",
       "192    232\n",
       "117    113\n",
       "47      55\n",
       "172     67\n",
       "Name: severe, Length: 350, dtype: int64"
      ]
     },
     "execution_count": 19,
     "metadata": {},
     "output_type": "execute_result"
    }
   ],
   "source": [
    "y_train"
   ]
  },
  {
   "cell_type": "code",
   "execution_count": 20,
   "metadata": {},
   "outputs": [
    {
     "data": {
      "text/plain": [
       "436     702\n",
       "340     864\n",
       "134      62\n",
       "90      308\n",
       "378     564\n",
       "       ... \n",
       "281     231\n",
       "8         0\n",
       "456    1131\n",
       "5         0\n",
       "372     701\n",
       "Name: severe, Length: 117, dtype: int64"
      ]
     },
     "execution_count": 20,
     "metadata": {},
     "output_type": "execute_result"
    }
   ],
   "source": [
    "y_test"
   ]
  },
  {
   "cell_type": "code",
   "execution_count": 21,
   "metadata": {},
   "outputs": [
    {
     "data": {
      "text/html": [
       "<div>\n",
       "<style scoped>\n",
       "    .dataframe tbody tr th:only-of-type {\n",
       "        vertical-align: middle;\n",
       "    }\n",
       "\n",
       "    .dataframe tbody tr th {\n",
       "        vertical-align: top;\n",
       "    }\n",
       "\n",
       "    .dataframe thead th {\n",
       "        text-align: right;\n",
       "    }\n",
       "</style>\n",
       "<table border=\"1\" class=\"dataframe\">\n",
       "  <thead>\n",
       "    <tr style=\"text-align: right;\">\n",
       "      <th></th>\n",
       "      <th>positive</th>\n",
       "    </tr>\n",
       "  </thead>\n",
       "  <tbody>\n",
       "    <tr>\n",
       "      <th>436</th>\n",
       "      <td>4519</td>\n",
       "    </tr>\n",
       "    <tr>\n",
       "      <th>340</th>\n",
       "      <td>6090</td>\n",
       "    </tr>\n",
       "    <tr>\n",
       "      <th>134</th>\n",
       "      <td>68</td>\n",
       "    </tr>\n",
       "    <tr>\n",
       "      <th>90</th>\n",
       "      <td>120</td>\n",
       "    </tr>\n",
       "    <tr>\n",
       "      <th>378</th>\n",
       "      <td>1444</td>\n",
       "    </tr>\n",
       "    <tr>\n",
       "      <th>...</th>\n",
       "      <td>...</td>\n",
       "    </tr>\n",
       "    <tr>\n",
       "      <th>281</th>\n",
       "      <td>1623</td>\n",
       "    </tr>\n",
       "    <tr>\n",
       "      <th>8</th>\n",
       "      <td>4</td>\n",
       "    </tr>\n",
       "    <tr>\n",
       "      <th>456</th>\n",
       "      <td>4315</td>\n",
       "    </tr>\n",
       "    <tr>\n",
       "      <th>5</th>\n",
       "      <td>0</td>\n",
       "    </tr>\n",
       "    <tr>\n",
       "      <th>372</th>\n",
       "      <td>1691</td>\n",
       "    </tr>\n",
       "  </tbody>\n",
       "</table>\n",
       "<p>117 rows × 1 columns</p>\n",
       "</div>"
      ],
      "text/plain": [
       "     positive\n",
       "436      4519\n",
       "340      6090\n",
       "134        68\n",
       "90        120\n",
       "378      1444\n",
       "..        ...\n",
       "281      1623\n",
       "8           4\n",
       "456      4315\n",
       "5           0\n",
       "372      1691\n",
       "\n",
       "[117 rows x 1 columns]"
      ]
     },
     "execution_count": 21,
     "metadata": {},
     "output_type": "execute_result"
    }
   ],
   "source": [
    "X_test"
   ]
  },
  {
   "cell_type": "markdown",
   "metadata": {},
   "source": [
    "参考: https://www.udemy.com/course/python-jp/\n",
    "回帰直線を含み全体的に参考にしました。"
   ]
  },
  {
   "cell_type": "code",
   "execution_count": 22,
   "metadata": {},
   "outputs": [
    {
     "data": {
      "text/plain": [
       "Text(0.5, 0, 'Number of PCR positively ill')"
      ]
     },
     "execution_count": 22,
     "metadata": {},
     "output_type": "execute_result"
    },
    {
     "data": {
      "image/png": "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\n",
      "text/plain": [
       "<Figure size 432x288 with 1 Axes>"
      ]
     },
     "metadata": {
      "needs_background": "light"
     },
     "output_type": "display_data"
    }
   ],
   "source": [
    "plt.scatter(covid_19.data,covid_19.target)\n",
    "\n",
    "plt.ylabel(\"Number of severely ill\")\n",
    "plt.xlabel(\"Number of PCR positively ill\")"
   ]
  },
  {
   "cell_type": "code",
   "execution_count": 23,
   "metadata": {},
   "outputs": [
    {
     "data": {
      "text/html": [
       "<div>\n",
       "<style scoped>\n",
       "    .dataframe tbody tr th:only-of-type {\n",
       "        vertical-align: middle;\n",
       "    }\n",
       "\n",
       "    .dataframe tbody tr th {\n",
       "        vertical-align: top;\n",
       "    }\n",
       "\n",
       "    .dataframe thead th {\n",
       "        text-align: right;\n",
       "    }\n",
       "</style>\n",
       "<table border=\"1\" class=\"dataframe\">\n",
       "  <thead>\n",
       "    <tr style=\"text-align: right;\">\n",
       "      <th></th>\n",
       "      <th>positive</th>\n",
       "    </tr>\n",
       "  </thead>\n",
       "  <tbody>\n",
       "    <tr>\n",
       "      <th>0</th>\n",
       "      <td>2</td>\n",
       "    </tr>\n",
       "    <tr>\n",
       "      <th>1</th>\n",
       "      <td>0</td>\n",
       "    </tr>\n",
       "    <tr>\n",
       "      <th>2</th>\n",
       "      <td>0</td>\n",
       "    </tr>\n",
       "    <tr>\n",
       "      <th>3</th>\n",
       "      <td>0</td>\n",
       "    </tr>\n",
       "    <tr>\n",
       "      <th>4</th>\n",
       "      <td>0</td>\n",
       "    </tr>\n",
       "  </tbody>\n",
       "</table>\n",
       "</div>"
      ],
      "text/plain": [
       "   positive\n",
       "0         2\n",
       "1         0\n",
       "2         0\n",
       "3         0\n",
       "4         0"
      ]
     },
     "execution_count": 23,
     "metadata": {},
     "output_type": "execute_result"
    }
   ],
   "source": [
    "#dataframeを作成\n",
    "covid19_df  = DataFrame(covid_19.data)\n",
    "#列名をつける\n",
    "covid19_df.columns = covid_19.feature_names\n",
    "\n",
    "covid19_df.head()\n"
   ]
  },
  {
   "cell_type": "code",
   "execution_count": 24,
   "metadata": {},
   "outputs": [],
   "source": [
    "covid19_df['severe'] = covid_19.target"
   ]
  },
  {
   "cell_type": "code",
   "execution_count": 25,
   "metadata": {},
   "outputs": [
    {
     "data": {
      "text/html": [
       "<div>\n",
       "<style scoped>\n",
       "    .dataframe tbody tr th:only-of-type {\n",
       "        vertical-align: middle;\n",
       "    }\n",
       "\n",
       "    .dataframe tbody tr th {\n",
       "        vertical-align: top;\n",
       "    }\n",
       "\n",
       "    .dataframe thead th {\n",
       "        text-align: right;\n",
       "    }\n",
       "</style>\n",
       "<table border=\"1\" class=\"dataframe\">\n",
       "  <thead>\n",
       "    <tr style=\"text-align: right;\">\n",
       "      <th></th>\n",
       "      <th>positive</th>\n",
       "      <th>severe</th>\n",
       "    </tr>\n",
       "  </thead>\n",
       "  <tbody>\n",
       "    <tr>\n",
       "      <th>0</th>\n",
       "      <td>2</td>\n",
       "      <td>0</td>\n",
       "    </tr>\n",
       "    <tr>\n",
       "      <th>1</th>\n",
       "      <td>0</td>\n",
       "      <td>0</td>\n",
       "    </tr>\n",
       "    <tr>\n",
       "      <th>2</th>\n",
       "      <td>0</td>\n",
       "      <td>0</td>\n",
       "    </tr>\n",
       "    <tr>\n",
       "      <th>3</th>\n",
       "      <td>0</td>\n",
       "      <td>0</td>\n",
       "    </tr>\n",
       "    <tr>\n",
       "      <th>4</th>\n",
       "      <td>0</td>\n",
       "      <td>0</td>\n",
       "    </tr>\n",
       "  </tbody>\n",
       "</table>\n",
       "</div>"
      ],
      "text/plain": [
       "   positive  severe\n",
       "0         2       0\n",
       "1         0       0\n",
       "2         0       0\n",
       "3         0       0\n",
       "4         0       0"
      ]
     },
     "execution_count": 25,
     "metadata": {},
     "output_type": "execute_result"
    }
   ],
   "source": [
    "covid19_df.head()"
   ]
  },
  {
   "cell_type": "code",
   "execution_count": 26,
   "metadata": {
    "scrolled": true
   },
   "outputs": [
    {
     "data": {
      "text/plain": [
       "<seaborn.axisgrid.FacetGrid at 0x162e5337a30>"
      ]
     },
     "execution_count": 26,
     "metadata": {},
     "output_type": "execute_result"
    },
    {
     "data": {
      "image/png": "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
